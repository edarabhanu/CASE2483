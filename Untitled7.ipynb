{
  "nbformat": 4,
  "nbformat_minor": 0,
  "metadata": {
    "colab": {
      "provenance": [],
      "authorship_tag": "ABX9TyOgUwjgdzlJqcS85+qd87EF",
      "include_colab_link": true
    },
    "kernelspec": {
      "name": "python3",
      "display_name": "Python 3"
    },
    "language_info": {
      "name": "python"
    }
  },
  "cells": [
    {
      "cell_type": "markdown",
      "metadata": {
        "id": "view-in-github",
        "colab_type": "text"
      },
      "source": [
        "<a href=\"https://colab.research.google.com/github/edarabhanu/CASE2483/blob/main/Untitled7.ipynb\" target=\"_parent\"><img src=\"https://colab.research.google.com/assets/colab-badge.svg\" alt=\"Open In Colab\"/></a>"
      ]
    },
    {
      "cell_type": "code",
      "execution_count": null,
      "metadata": {
        "colab": {
          "base_uri": "https://localhost:8080/"
        },
        "id": "roXQO_0oPh8a",
        "outputId": "29530573-0084-445d-dafc-1fce6372e16f"
      },
      "outputs": [
        {
          "output_type": "stream",
          "name": "stdout",
          "text": [
            "['normal']\n",
            "0.8888888888888888\n"
          ]
        },
        {
          "output_type": "stream",
          "name": "stderr",
          "text": [
            "/usr/local/lib/python3.10/dist-packages/sklearn/neighbors/_classification.py:238: DataConversionWarning: A column-vector y was passed when a 1d array was expected. Please change the shape of y to (n_samples,), for example using ravel().\n",
            "  return self._fit(X, y)\n",
            "/usr/local/lib/python3.10/dist-packages/sklearn/base.py:493: UserWarning: X does not have valid feature names, but KNeighborsClassifier was fitted with feature names\n",
            "  warnings.warn(\n"
          ]
        }
      ],
      "source": [
        "import pandas as bhanu\n",
        "from sklearn.neighbors import KNeighborsClassifier\n",
        "\n",
        "label=bhanu.read_csv('bmi.csv')\n",
        "feature=bhanu.read_csv('bmi.csv',usecols=[0,1])\n",
        "label=bhanu.read_csv('bmi.csv',usecols=[2])\n",
        "rehuman=KNeighborsClassifier(n_neighbors=2)\n",
        "rehuman.fit(feature,label)\n",
        "print(rehuman.predict([[170,57]]))\n",
        "print(rehuman.score(feature,label))"
      ]
    },
    {
      "cell_type": "code",
      "source": [
        "import pandas as bhanu\n",
        "from sklearn.neighbors import KNeighborsClassifier\n",
        "\n",
        "label=bhanu.read_csv('drowsy.csv')\n",
        "feature=bhanu.read_csv('drowsy.csv',usecols=[0,1,2,3])\n",
        "label=bhanu.read_csv('drowsy.csv',usecols=[4])\n",
        "rehuman=KNeighborsClassifier(n_neighbors=2)\n",
        "rehuman.fit(feature,label)\n",
        "print(rehuman.predict([[170,5.0,97,978]]))\n",
        "print(rehuman.score(feature,label))"
      ],
      "metadata": {
        "id": "QPLs0KskY5vr",
        "colab": {
          "base_uri": "https://localhost:8080/"
        },
        "outputId": "89532164-3de2-49f4-93c0-6d68430b143b"
      },
      "execution_count": 9,
      "outputs": [
        {
          "output_type": "stream",
          "name": "stdout",
          "text": [
            "['Alert']\n",
            "0.875\n"
          ]
        },
        {
          "output_type": "stream",
          "name": "stderr",
          "text": [
            "/usr/local/lib/python3.10/dist-packages/sklearn/neighbors/_classification.py:238: DataConversionWarning: A column-vector y was passed when a 1d array was expected. Please change the shape of y to (n_samples,), for example using ravel().\n",
            "  return self._fit(X, y)\n",
            "/usr/local/lib/python3.10/dist-packages/sklearn/base.py:493: UserWarning: X does not have valid feature names, but KNeighborsClassifier was fitted with feature names\n",
            "  warnings.warn(\n"
          ]
        }
      ]
    }
  ]
}